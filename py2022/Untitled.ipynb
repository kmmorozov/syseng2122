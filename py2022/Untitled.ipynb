{
 "cells": [
  {
   "cell_type": "code",
   "execution_count": 2,
   "id": "0e281dea",
   "metadata": {},
   "outputs": [],
   "source": [
    "a = 10"
   ]
  },
  {
   "cell_type": "code",
   "execution_count": 6,
   "id": "0a5062d2",
   "metadata": {},
   "outputs": [],
   "source": [
    "b = 160"
   ]
  },
  {
   "cell_type": "raw",
   "id": "b0abe5f9",
   "metadata": {},
   "source": [
    "dsfkjshdfksdlkf\n",
    "klsdflksdjflksdf\n",
    "'sldlkjflksdfjl;sd\n"
   ]
  },
  {
   "cell_type": "code",
   "execution_count": 7,
   "id": "33a1a7fa",
   "metadata": {},
   "outputs": [],
   "source": [
    "c = a + b "
   ]
  },
  {
   "cell_type": "code",
   "execution_count": 8,
   "id": "882e517a",
   "metadata": {},
   "outputs": [
    {
     "name": "stdout",
     "output_type": "stream",
     "text": [
      "170\n"
     ]
    }
   ],
   "source": [
    "print(c)"
   ]
  },
  {
   "cell_type": "code",
   "execution_count": null,
   "id": "f14b0434",
   "metadata": {},
   "outputs": [],
   "source": []
  }
 ],
 "metadata": {
  "kernelspec": {
   "display_name": "Python 3 (ipykernel)",
   "language": "python",
   "name": "python3"
  },
  "language_info": {
   "codemirror_mode": {
    "name": "ipython",
    "version": 3
   },
   "file_extension": ".py",
   "mimetype": "text/x-python",
   "name": "python",
   "nbconvert_exporter": "python",
   "pygments_lexer": "ipython3",
   "version": "3.7.9"
  }
 },
 "nbformat": 4,
 "nbformat_minor": 5
}
